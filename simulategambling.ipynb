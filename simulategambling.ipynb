{
 "cells": [
  {
   "cell_type": "code",
   "execution_count": 1,
   "id": "b7a8dba0-4daa-4038-add3-9e28ca24320d",
   "metadata": {},
   "outputs": [],
   "source": [
    "import pandas as pd\n",
    "import numpy as np\n",
    "import seaborn as sns\n",
    "import matplotlib.pyplot as plt\n",
    "import random"
   ]
  },
  {
   "cell_type": "markdown",
   "id": "338f2110-d76b-4e4f-a0f2-f2aa3fffae98",
   "metadata": {},
   "source": [
    "## Simulate an event of rolling a dice"
   ]
  },
  {
   "cell_type": "code",
   "execution_count": 31,
   "id": "b9ade60e-4922-4186-b040-9656d6aa0f6c",
   "metadata": {},
   "outputs": [
    {
     "data": {
      "image/png": "[encoded data removed]",
      "text/plain": [
       "<Figure size 640x480 with 1 Axes>"
      ]
     },
     "metadata": {},
     "output_type": "display_data"
    }
   ],
   "source": [
    "# function to simulate an event of rolling a dice\n",
    "# possible results = 1, 2, 3, 4, 5, 6\n",
    "def sim_rolling_dice(count=1):\n",
    "    index_list, result_list = [], []\n",
    "    for i in range(1, count+1):\n",
    "        index_list.append(i)\n",
    "        result_list.append(random.randint(1, 6))\n",
    "    return {\"Index\":index_list, \"Roll Value\":result_list}\n",
    "\n",
    "# convert the dictionary to a dataframe\n",
    "df = pd.DataFrame(sim_rolling_dice(10000))\n",
    "\n",
    "# creating a new column to keep the average of current counting roll value \n",
    "df['Roll Avg'] = df['Roll Value'].expanding().mean()\n",
    "\n",
    "# plotting a histogram for index vs roll avg\n",
    "sns.lineplot(df, x=df['Index'], y=df['Roll Avg'])\n",
    "plt.ylim(3, 4)\n",
    "plt.show()"
   ]
  },
  {
   "cell_type": "code",
   "execution_count": 32,
   "id": "2aa99ae4-23ee-482a-9ae2-98530458e593",
   "metadata": {},
   "outputs": [
    {
     "data": {
      "text/html": [
       "<div>\n",
       "<style scoped>\n",
       "    .dataframe tbody tr th:only-of-type {\n",
       "        vertical-align: middle;\n",
       "    }\n",
       "\n",
       "    .dataframe tbody tr th {\n",
       "        vertical-align: top;\n",
       "    }\n",
       "\n",
       "    .dataframe thead th {\n",
       "        text-align: right;\n",
       "    }\n",
       "</style>\n",
       "<table border=\"1\" class=\"dataframe\">\n",
       "  <thead>\n",
       "    <tr style=\"text-align: right;\">\n",
       "      <th></th>\n",
       "      <th>Index</th>\n",
       "      <th>Roll Value</th>\n",
       "      <th>Roll Avg</th>\n",
       "    </tr>\n",
       "  </thead>\n",
       "  <tbody>\n",
       "    <tr>\n",
       "      <th>9999</th>\n",
       "      <td>10000</td>\n",
       "      <td>2</td>\n",
       "      <td>3.5119</td>\n",
       "    </tr>\n",
       "  </tbody>\n",
       "</table>\n",
       "</div>"
      ],
      "text/plain": [
       "      Index  Roll Value  Roll Avg\n",
       "9999  10000           2    3.5119"
      ]
     },
     "execution_count": 32,
     "metadata": {},
     "output_type": "execute_result"
    }
   ],
   "source": [
    "# checking final value of the rolling average\n",
    "df.tail(1)"
   ]
  },
  {
   "cell_type": "code",
   "execution_count": 33,
   "id": "94f22826-9a77-4433-b843-9f7c8a5c5514",
   "metadata": {},
   "outputs": [],
   "source": [
    "# save dataframe to csv for future use\n",
    "df.to_csv('SimulationResults.csv', index=False)"
   ]
  },
  {
   "cell_type": "code",
   "execution_count": 35,
   "id": "06a77b67-e1c5-4594-9bda-90c64bd69a42",
   "metadata": {},
   "outputs": [
    {
     "data": {
      "text/html": [
       "<div>\n",
       "<style scoped>\n",
       "    .dataframe tbody tr th:only-of-type {\n",
       "        vertical-align: middle;\n",
       "    }\n",
       "\n",
       "    .dataframe tbody tr th {\n",
       "        vertical-align: top;\n",
       "    }\n",
       "\n",
       "    .dataframe thead th {\n",
       "        text-align: right;\n",
       "    }\n",
       "</style>\n",
       "<table border=\"1\" class=\"dataframe\">\n",
       "  <thead>\n",
       "    <tr style=\"text-align: right;\">\n",
       "      <th></th>\n",
       "      <th>Index</th>\n",
       "      <th>Roll Value</th>\n",
       "      <th>Roll Avg</th>\n",
       "    </tr>\n",
       "  </thead>\n",
       "  <tbody>\n",
       "    <tr>\n",
       "      <th>9995</th>\n",
       "      <td>9996</td>\n",
       "      <td>4</td>\n",
       "      <td>3.512405</td>\n",
       "    </tr>\n",
       "    <tr>\n",
       "      <th>9996</th>\n",
       "      <td>9997</td>\n",
       "      <td>3</td>\n",
       "      <td>3.512354</td>\n",
       "    </tr>\n",
       "    <tr>\n",
       "      <th>9997</th>\n",
       "      <td>9998</td>\n",
       "      <td>1</td>\n",
       "      <td>3.512102</td>\n",
       "    </tr>\n",
       "    <tr>\n",
       "      <th>9998</th>\n",
       "      <td>9999</td>\n",
       "      <td>3</td>\n",
       "      <td>3.512051</td>\n",
       "    </tr>\n",
       "    <tr>\n",
       "      <th>9999</th>\n",
       "      <td>10000</td>\n",
       "      <td>2</td>\n",
       "      <td>3.511900</td>\n",
       "    </tr>\n",
       "  </tbody>\n",
       "</table>\n",
       "</div>"
      ],
      "text/plain": [
       "      Index  Roll Value  Roll Avg\n",
       "9995   9996           4  3.512405\n",
       "9996   9997           3  3.512354\n",
       "9997   9998           1  3.512102\n",
       "9998   9999           3  3.512051\n",
       "9999  10000           2  3.511900"
      ]
     },
     "execution_count": 35,
     "metadata": {},
     "output_type": "execute_result"
    }
   ],
   "source": [
    "df.tail(5)"
   ]
  },
  {
   "cell_type": "markdown",
   "id": "6d18642b-fe54-401b-b6be-4aa0c52e1357",
   "metadata": {},
   "source": [
    "## Gambler's Ruin Simulation"
   ]
  },
  {
   "cell_type": "code",
   "execution_count": 37,
   "id": "f62ee198-9a2b-460c-a059-b0db97d94f10",
   "metadata": {},
   "outputs": [
    {
     "data": {
      "text/plain": [
       "<AxesSubplot:xlabel='Index', ylabel='Balance'>"
      ]
     },
     "execution_count": 37,
     "metadata": {},
     "output_type": "execute_result"
    },
    {
     "data": {
      "image/png": "[encoded data removed]",
      "text/plain": [
       "<Figure size 640x480 with 1 Axes>"
      ]
     },
     "metadata": {},
     "output_type": "display_data"
    }
   ],
   "source": [
    "def gambling_simulation(balance=10000, bet=100, winning_chance=0.4865, payout=1):\n",
    "    \n",
    "    i = 1\n",
    "    index_list = [i]\n",
    "    balance_list = [balance]\n",
    "    while balance >= bet or i == 100:\n",
    "        i = i + 1\n",
    "        index_list.append(i)\n",
    "        if random.random() < winning_chance:\n",
    "            balance = balance - bet\n",
    "        else:\n",
    "            balance = balance + float(\"{:.2f}\".format(payout*bet))\n",
    "        balance_list.append(balance)\n",
    "        \n",
    "    return {'Index':index_list, 'Balance':balance_list}\n",
    "\n",
    "# simulating an event where balance=100, bet range=10, and win chance=0.4865 aka European Roulette\n",
    "x = gambling_simulation(100, 10, 0.4865)\n",
    "\n",
    "# saving to dataframe\n",
    "df2 = pd.DataFrame(x)\n",
    "\n",
    "# plotting a graph of overtime balance after multiple rounds\n",
    "sns.lineplot(df, x=df2['Index'], y=df2['Balance'])"
   ]
  },
  {
   "cell_type": "code",
   "execution_count": 38,
   "id": "fcf5ec27-f803-4c65-b617-72a0a0228dfa",
   "metadata": {},
   "outputs": [],
   "source": [
    "df2.to_csv('GamblersRuinSim.csv', index=False)"
   ]
  },
  {
   "cell_type": "code",
   "execution_count": 39,
   "id": "adad8014-e0ec-4a6d-b95e-978e75e51dee",
   "metadata": {},
   "outputs": [
    {
     "data": {
      "text/html": [
       "<div>\n",
       "<style scoped>\n",
       "    .dataframe tbody tr th:only-of-type {\n",
       "        vertical-align: middle;\n",
       "    }\n",
       "\n",
       "    .dataframe tbody tr th {\n",
       "        vertical-align: top;\n",
       "    }\n",
       "\n",
       "    .dataframe thead th {\n",
       "        text-align: right;\n",
       "    }\n",
       "</style>\n",
       "<table border=\"1\" class=\"dataframe\">\n",
       "  <thead>\n",
       "    <tr style=\"text-align: right;\">\n",
       "      <th></th>\n",
       "      <th>Index</th>\n",
       "      <th>Balance</th>\n",
       "    </tr>\n",
       "  </thead>\n",
       "  <tbody>\n",
       "    <tr>\n",
       "      <th>62</th>\n",
       "      <td>63</td>\n",
       "      <td>20.0</td>\n",
       "    </tr>\n",
       "    <tr>\n",
       "      <th>63</th>\n",
       "      <td>64</td>\n",
       "      <td>10.0</td>\n",
       "    </tr>\n",
       "    <tr>\n",
       "      <th>64</th>\n",
       "      <td>65</td>\n",
       "      <td>20.0</td>\n",
       "    </tr>\n",
       "    <tr>\n",
       "      <th>65</th>\n",
       "      <td>66</td>\n",
       "      <td>10.0</td>\n",
       "    </tr>\n",
       "    <tr>\n",
       "      <th>66</th>\n",
       "      <td>67</td>\n",
       "      <td>0.0</td>\n",
       "    </tr>\n",
       "  </tbody>\n",
       "</table>\n",
       "</div>"
      ],
      "text/plain": [
       "    Index  Balance\n",
       "62     63     20.0\n",
       "63     64     10.0\n",
       "64     65     20.0\n",
       "65     66     10.0\n",
       "66     67      0.0"
      ]
     },
     "execution_count": 39,
     "metadata": {},
     "output_type": "execute_result"
    }
   ],
   "source": [
    "df2.tail(5)"
   ]
  },
  {
   "cell_type": "code",
   "execution_count": null,
   "id": "bb5ba108-9c52-4fdc-b9ff-2df71bef8a37",
   "metadata": {},
   "outputs": [],
   "source": []
  }
 ],
 "metadata": {
  "kernelspec": {
   "display_name": "Python 3 (ipykernel)",
   "language": "python",
   "name": "python3"
  },
  "language_info": {
   "codemirror_mode": {
    "name": "ipython",
    "version": 3
   },
   "file_extension": ".py",
   "mimetype": "text/x-python",
   "name": "python",
   "nbconvert_exporter": "python",
   "pygments_lexer": "ipython3",
   "version": "3.9.5"
  }
 },
 "nbformat": 4,
 "nbformat_minor": 5
}
